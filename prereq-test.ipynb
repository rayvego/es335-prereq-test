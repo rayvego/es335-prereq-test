{
 "cells": [
  {
   "metadata": {},
   "cell_type": "markdown",
   "source": [
    "Q1) How many multiplications and additions do you need to perform a matrix multiplication between a (n, k) and (k, m) matrix? Explain.\n",
    "\n",
    "Ans) Let the resultant matrix be called C of the dimension (n x m). We know that, an element $c_{ij}$ is calculated by the following formula:\n",
    "\n",
    "$c_{ij} = \\sum_{x=1}^{k} a_{ix} * b_{xj}$ where $a_{ix}$ is the element present at $i$th row and $x$th column and so on.\n",
    "\n",
    "In this operation, we perform $k$ multiplications and $k - 1$ additions as we are adding $k$ elements. \n",
    "\n",
    "Now, since there are $n \\times m$ elements in the resultant matrix, there would a total of $n \\times m \\times k$ multiplications and $n \\times m \\times (k - 1)$ additions.\n"
   ],
   "id": "66a0e147308c8d0f"
  },
  {
   "metadata": {},
   "cell_type": "markdown",
   "source": "Q2) Write Python code to multiply the above two matrices. Solve using list of lists and then use numpy. Compare the timing of both solutions. Which one is faster? Why?",
   "id": "e7fc29b212a539fd"
  },
  {
   "metadata": {
    "ExecuteTime": {
     "end_time": "2024-08-06T18:00:22.897390Z",
     "start_time": "2024-08-06T18:00:22.376824Z"
    }
   },
   "cell_type": "code",
   "source": [
    "import numpy as np\n",
    "import time\n",
    "\n",
    "def lists_approach (X, Y):\n",
    "    Z = [[0 for _ in range(len(Y[0]))] for _ in range(len(X))]\n",
    "    for i in range(len(X)):\n",
    "        for j in range(len(Y[0])):\n",
    "            for k in range(len(Y)):\n",
    "                Z[i][j] += X[i][k] * Y[k][j]\n",
    "                \n",
    "    return Z\n",
    "\n",
    "def numpy_approach (X, Y):\n",
    "    Z = np.dot(X, Y)\n",
    "    return Z\n",
    "\n",
    "def compare_time (X, Y):\n",
    "    s = time.time()\n",
    "    lists_approach(X, Y)\n",
    "    e = time.time()\n",
    "    print(f\"list approach:\", (e - s)*1000 , \"millisecond\")\n",
    "\n",
    "    s = time.time()\n",
    "    numpy_approach(X, Y)\n",
    "    e = time.time()\n",
    "    print(f\"numpy approach:\", (e - s)*1000 , \"millisecond\")\n",
    "\n",
    "X = np.random.randint(0, 2, (93, 93))\n",
    "Y = np.random.randint(0, 2, (93, 93))\n",
    "compare_time(X, Y)"
   ],
   "id": "203b048a57ee328f",
   "outputs": [
    {
     "name": "stdout",
     "output_type": "stream",
     "text": [
      "list approach: 501.4979839324951 millisecond\n",
      "numpy approach: 0.888824462890625 millisecond\n"
     ]
    }
   ],
   "execution_count": 23
  },
  {
   "metadata": {},
   "cell_type": "markdown",
   "source": "Numpy seems to be faster than lists. This can be because NumPy operations are vectorized, meaning they operate on entire arrays at once, rather than iterating over individual elements with lists. Also, looping in python is inherently slow.\n",
   "id": "7be52cdb42a1e3b7"
  },
  {
   "metadata": {},
   "cell_type": "markdown",
   "source": [
    "Q3) Finding the highest element in a list requires one pass of the array. Finding the second highest element requires 2 passes of the the array. Using this method, what is the time complexity of finding the median of the array? Can you suggest a better method? Can you implement both these methods in Python and compare against numpy.median routine in terms of time?\n",
    "\n",
    "Ans3) Finding the median using the naive method would cost us to traverse the array n/2 times taking O(n) time for each traverse, so it would translate to a time complexity of O(n^2). We could use an efficient method which basically tries to find the kth highest element."
   ],
   "id": "d6db87d68b8607e3"
  },
  {
   "metadata": {},
   "cell_type": "markdown",
   "source": [
    "Q4) What is the gradient of the following function with respect to x and y?\n",
    "$$x^2 y + y^3 sin(x)$$\n",
    "\n",
    "Ans4) To find the gradiant of f(x, y) w.r.t x, we partially differentiate f(x , y) w.r.t x and simply treat y as a constant.\n",
    "$$\n",
    "\\frac{\\partial f}{\\partial x} = \\frac{\\partial}{\\partial x} \\left( x^2 y + y^3 \\sin(x) \\right) = 2x y + y^3 \\cos(x)\n",
    "$$\n",
    "\n",
    "To find the gradiant of f(x, y) w.r.t y, we partially differentiate f(x , y) w.r.t y and simply treat x as a constant.\n",
    "$$\n",
    "\\frac{\\partial f}{\\partial y} = \\frac{\\partial}{\\partial y} \\left( x^2 y + y^3 \\sin(x) \\right) = x^2 + 3y^2 \\sin(x)\n",
    "$$\n"
   ],
   "id": "f3172edc4f8f3041"
  },
  {
   "metadata": {},
   "cell_type": "markdown",
   "source": "Q5) Use `JAX` to confirm the gradient evaluated by your method matches the analytical solution corresponding to a few random values of x and y.",
   "id": "feaf94fce6ba8207"
  },
  {
   "metadata": {
    "ExecuteTime": {
     "end_time": "2024-08-06T18:01:36.279339Z",
     "start_time": "2024-08-06T18:01:36.235742Z"
    }
   },
   "cell_type": "code",
   "source": [
    "import jax \n",
    "\n",
    "def given_function(x, y):\n",
    "    return x**2 * y + y**3 * jax.numpy.sin(x)\n",
    "\n",
    "def jax_approach(x, y):\n",
    "    return jax.grad(given_function)(x, y), jax.grad(given_function, 1)(x, y)\n",
    "\n",
    "def mathematical_approach(x, y):\n",
    "    df_dx = 2 * x * y + y**3 * jax.numpy.cos(x)\n",
    "    df_dy = x**2 + 3 * y**2 * jax.numpy.sin(x)\n",
    "    return df_dx, df_dy\n",
    "\n",
    "x = jax.numpy.array(2.0)\n",
    "y = jax.numpy.array(1.0)\n",
    "\n",
    "print(\"math:\")\n",
    "print(\"df/dx at (2, 1) =\", mathematical_approach(x, y)[0])\n",
    "print(\"df/dy at (2, 1) =\", mathematical_approach(x, y)[1])\n",
    "print(\"jax:\")\n",
    "print(\"df/dx at (2, 1) =\", jax_approach(x, y)[0])\n",
    "print(\"df/dy at (2, 1) =\", jax_approach(x, y)[1])"
   ],
   "id": "e556d24dbae8b123",
   "outputs": [
    {
     "name": "stdout",
     "output_type": "stream",
     "text": [
      "math:\n",
      "df/dx at (2, 1) = 3.5838532\n",
      "df/dy at (2, 1) = 6.727892\n",
      "jax:\n",
      "df/dx at (2, 1) = 3.5838532\n",
      "df/dy at (2, 1) = 6.727892\n"
     ]
    }
   ],
   "execution_count": 26
  },
  {
   "metadata": {},
   "cell_type": "markdown",
   "source": "The answers from both the approaches are same!",
   "id": "f1e4b884a8c28a2a"
  },
  {
   "metadata": {},
   "cell_type": "markdown",
   "source": "Q6) Use sympy to confirm that you obtain the same gradient analytically.",
   "id": "f85d222a3ec284d3"
  },
  {
   "metadata": {
    "ExecuteTime": {
     "end_time": "2024-08-06T18:02:19.403287Z",
     "start_time": "2024-08-06T18:02:19.387888Z"
    }
   },
   "cell_type": "code",
   "source": [
    "import sympy as sp\n",
    "\n",
    "x, y = sp.symbols('x y')\n",
    "f = x**2 * y + y**3 * sp.sin(x)\n",
    "\n",
    "df_dx = sp.diff(f, x)\n",
    "df_dy = sp.diff(f, y)\n",
    "\n",
    "print(\"df/dx =\", df_dx)\n",
    "print(\"df/dy =\", df_dy)\n",
    "\n",
    "x_value = 2.0\n",
    "y_value = 1.0\n",
    "\n",
    "df_dx_value = df_dx.evalf(subs={x: x_value, y: y_value})\n",
    "df_dy_value = df_dy.evalf(subs={x: x_value, y: y_value})\n",
    "\n",
    "print(\"df/dx at  2, 1) =\", df_dx_value)\n",
    "print(\"df/dy at  2, 1) =\", df_dy_value)"
   ],
   "id": "e1d3da0c64aae320",
   "outputs": [
    {
     "name": "stdout",
     "output_type": "stream",
     "text": [
      "df/dx = 2*x*y + y**3*cos(x)\n",
      "df/dy = x**2 + 3*y**2*sin(x)\n",
      "df/dx at  2, 1) = 3.58385316345286\n",
      "df/dy at  2, 1) = 6.72789228047704\n"
     ]
    }
   ],
   "execution_count": 27
  },
  {
   "metadata": {},
   "cell_type": "markdown",
   "source": "We can see here that sympy gives more accurate results.",
   "id": "35b65fc2a14f4a66"
  },
  {
   "metadata": {},
   "cell_type": "markdown",
   "source": "",
   "id": "84df6a9af124517"
  },
  {
   "metadata": {},
   "cell_type": "code",
   "outputs": [],
   "execution_count": null,
   "source": "",
   "id": "c40c8a0689ddf5fb"
  }
 ],
 "metadata": {
  "kernelspec": {
   "display_name": "Python 3",
   "language": "python",
   "name": "python3"
  },
  "language_info": {
   "codemirror_mode": {
    "name": "ipython",
    "version": 2
   },
   "file_extension": ".py",
   "mimetype": "text/x-python",
   "name": "python",
   "nbconvert_exporter": "python",
   "pygments_lexer": "ipython2",
   "version": "2.7.6"
  }
 },
 "nbformat": 4,
 "nbformat_minor": 5
}
